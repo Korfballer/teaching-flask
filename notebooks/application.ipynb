{
 "cells": [
  {
   "attachments": {},
   "cell_type": "markdown",
   "metadata": {},
   "source": [
    "# Application"
   ]
  },
  {
   "attachments": {},
   "cell_type": "markdown",
   "metadata": {},
   "source": [
    "To run this notebook, you must **ensure the application is running**. In Visual Studio Code, use the \"Run and Debug\" panel."
   ]
  },
  {
   "attachments": {},
   "cell_type": "markdown",
   "metadata": {},
   "source": [
    "## 1. Setup"
   ]
  },
  {
   "cell_type": "code",
   "execution_count": 1,
   "metadata": {},
   "outputs": [],
   "source": [
    "# Standard library imports\n",
    "import json\n",
    "import os\n",
    "import sys\n",
    "\n",
    "# Third party imports\n",
    "import requests"
   ]
  },
  {
   "cell_type": "code",
   "execution_count": 2,
   "metadata": {},
   "outputs": [],
   "source": [
    "# Set-up local application imports\n",
    "\n",
    "this_notebook_path = os.path.dirname(os.path.realpath(\"__file__\"))\n",
    "\n",
    "project_path = os.path.join(\n",
    "    this_notebook_path,  # /notebooks\n",
    "    \"..\",  # /\n",
    ")\n",
    "\n",
    "if project_path not in sys.path:\n",
    "\n",
    "    sys.path.append(project_path)"
   ]
  },
  {
   "cell_type": "code",
   "execution_count": 3,
   "metadata": {},
   "outputs": [],
   "source": [
    "# Local application imports\n",
    "from app.main import menu"
   ]
  },
  {
   "cell_type": "code",
   "execution_count": 4,
   "metadata": {},
   "outputs": [],
   "source": [
    "# As defined in .vscode/launch.json\n",
    "host = \"127.0.0.1\"\n",
    "port = 8000\n",
    "\n",
    "url = f\"http://{host}:{port}\""
   ]
  },
  {
   "cell_type": "code",
   "execution_count": 5,
   "metadata": {},
   "outputs": [
    {
     "data": {
      "text/plain": [
       "{'Starters': {'Olives': 4, 'Bread': 3},\n",
       " 'Mains': {'Margherita': 10, 'Spaghetti Bolognese': 8, 'Salmon': 15},\n",
       " 'Desserts': {'Chocolate cake': 5, 'Waffles And Ice-cream': 4},\n",
       " 'Drinks': {'Tap Water': 0, 'Sparkling Water': 1, 'Lemonade': 4}}"
      ]
     },
     "execution_count": 5,
     "metadata": {},
     "output_type": "execute_result"
    }
   ],
   "source": [
    "# Print the menu (directly from the code, not from the application)\n",
    "menu"
   ]
  },
  {
   "attachments": {},
   "cell_type": "markdown",
   "metadata": {},
   "source": [
    "## 2. Interacting via requests"
   ]
  },
  {
   "cell_type": "code",
   "execution_count": 6,
   "metadata": {},
   "outputs": [
    {
     "data": {
      "text/plain": [
       "{'message': 'Welcome to our restaurant'}"
      ]
     },
     "execution_count": 6,
     "metadata": {},
     "output_type": "execute_result"
    }
   ],
   "source": [
    "# Send a simple get request\n",
    "requests.get(f\"{url}\").json()"
   ]
  },
  {
   "cell_type": "code",
   "execution_count": 7,
   "metadata": {},
   "outputs": [
    {
     "data": {
      "text/plain": [
       "{'message': \"Hello, I'm Wally, your waiter for today.\"}"
      ]
     },
     "execution_count": 7,
     "metadata": {},
     "output_type": "execute_result"
    }
   ],
   "source": [
    "# Send a post request, passing a simple argument via the URL\n",
    "requests.post(f\"{url}/waiter/wally\").json()"
   ]
  },
  {
   "cell_type": "code",
   "execution_count": 8,
   "metadata": {},
   "outputs": [
    {
     "data": {
      "text/plain": [
       "{'Table number': 104}"
      ]
     },
     "execution_count": 8,
     "metadata": {},
     "output_type": "execute_result"
    }
   ],
   "source": [
    "# Send a slightly more complex post request, passing data via JSON\n",
    "requests.post(f\"{url}/table\", data=json.dumps({\"seats\": 4})).json()"
   ]
  },
  {
   "cell_type": "code",
   "execution_count": 9,
   "metadata": {},
   "outputs": [],
   "source": [
    "# Send a get request to see the menu. Check it compares with the expected dictionary from the source code.\n",
    "menu_via_application = requests.get(f\"{url}/menu\").json()\n",
    "\n",
    "assert menu_via_application == menu"
   ]
  },
  {
   "cell_type": "code",
   "execution_count": 10,
   "metadata": {},
   "outputs": [
    {
     "data": {
      "text/plain": [
       "{'Food in its way': 'Salmon', 'Drinks on their way': None}"
      ]
     },
     "execution_count": 10,
     "metadata": {},
     "output_type": "execute_result"
    }
   ],
   "source": [
    "# Send more complex post request, passing data via JSON\n",
    "requests.post(f\"{url}/order\", data=json.dumps({\"food\": \"Salmon\", \"drinks\": [\"Tap water\", \"Lemonade\"]})).json()"
   ]
  },
  {
   "cell_type": "code",
   "execution_count": 11,
   "metadata": {},
   "outputs": [
    {
     "data": {
      "text/plain": [
       "{'Food in its way': 'Seaweed', 'Drinks on their way': None}"
      ]
     },
     "execution_count": 11,
     "metadata": {},
     "output_type": "execute_result"
    }
   ],
   "source": [
    "# Notice here how we are able to order items not on the menu, how would you stop this?\n",
    "requests.post(f\"{url}/order\", data=json.dumps({\"food\": \"Seaweed\"})).json()"
   ]
  }
 ],
 "metadata": {
  "kernelspec": {
   "display_name": "venv",
   "language": "python",
   "name": "python3"
  },
  "language_info": {
   "codemirror_mode": {
    "name": "ipython",
    "version": 3
   },
   "file_extension": ".py",
   "mimetype": "text/x-python",
   "name": "python",
   "nbconvert_exporter": "python",
   "pygments_lexer": "ipython3",
   "version": "3.10.2"
  },
  "orig_nbformat": 4
 },
 "nbformat": 4,
 "nbformat_minor": 2
}
